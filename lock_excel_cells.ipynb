{
 "cells": [
  {
   "cell_type": "markdown",
   "id": "28d8da00",
   "metadata": {},
   "source": [
    "# Lock Cells 🔒 in Excel"
   ]
  },
  {
   "cell_type": "markdown",
   "id": "da8cdb47-7b8d-4181-9c8a-ea83ef275cab",
   "metadata": {},
   "source": [
    "## Import Dependencies"
   ]
  },
  {
   "cell_type": "code",
   "execution_count": null,
   "id": "b590f2ae-82a0-45cc-b80a-2349d11638c5",
   "metadata": {},
   "outputs": [],
   "source": [
    "from pathlib import Path  # standard python module\n",
    "\n",
    "import win32com.client  # pip install pywin32"
   ]
  },
  {
   "cell_type": "markdown",
   "id": "7785ef90-a5ce-48a0-bad9-2fa0bd1a947b",
   "metadata": {},
   "source": [
    "## Locate Excel File Path"
   ]
  },
  {
   "cell_type": "code",
   "execution_count": null,
   "id": "6a44fe13-466d-4b93-b0a5-92bc72814a62",
   "metadata": {},
   "outputs": [],
   "source": [
    "# get current dir (using cwd() is needed when using notebooks)\n",
    "current_dir = Path(__file__).parent if \"__file__\" in locals() else Path.cwd()\n",
    "current_dir"
   ]
  },
  {
   "cell_type": "code",
   "execution_count": null,
   "id": "1d73f5d2-6fbb-4f2d-a52c-f3288b76bec5",
   "metadata": {},
   "outputs": [],
   "source": [
    "excel_file_path = current_dir / \"EBIT_2022.xlsx\"\n",
    "excel_file_path"
   ]
  },
  {
   "cell_type": "code",
   "execution_count": null,
   "id": "663b2a15-8f5a-4a59-8836-1168833f8efc",
   "metadata": {},
   "outputs": [],
   "source": [
    "output_path = current_dir / f\"{excel_file_path.stem}_locked{excel_file_path.suffix}\"\n",
    "output_path"
   ]
  },
  {
   "cell_type": "markdown",
   "id": "21c758e1-03ac-40d0-9ffc-ffb8631b965a",
   "metadata": {},
   "source": [
    "## Open Workbook"
   ]
  },
  {
   "cell_type": "code",
   "execution_count": null,
   "id": "95842032-6a0c-427c-9e14-bfb6f0abffa9",
   "metadata": {},
   "outputs": [],
   "source": [
    "# launch Excel\n",
    "xl = win32com.client.Dispatch(\"Excel.Application\")\n",
    "xl.Visible = True"
   ]
  },
  {
   "cell_type": "code",
   "execution_count": null,
   "id": "3090f100-cd83-45fb-b54b-5345a9d2526f",
   "metadata": {},
   "outputs": [],
   "source": [
    "# open workbook\n",
    "wb = xl.Workbooks.Open(excel_file_path)"
   ]
  },
  {
   "cell_type": "markdown",
   "id": "07907f98-265b-451f-851e-405faf8d7245",
   "metadata": {},
   "source": [
    "## Helper Function to convert RGB to integers"
   ]
  },
  {
   "cell_type": "code",
   "execution_count": null,
   "id": "69663709-fafb-4347-ad40-4cb66e7648d4",
   "metadata": {},
   "outputs": [],
   "source": [
    "def rgb_to_int(rgb):\n",
    "    color_int = rgb[0] + (rgb[1] * 256) + (rgb[2] * 256 * 256)\n",
    "    return color_int"
   ]
  },
  {
   "cell_type": "code",
   "execution_count": null,
   "id": "6b9711d6-36ac-429d-8b5e-fb4c095b10ed",
   "metadata": {},
   "outputs": [],
   "source": [
    "lock_color = rgb_to_int((255, 255, 153))  # yellow color\n",
    "lock_color"
   ]
  },
  {
   "cell_type": "markdown",
   "id": "04515d75",
   "metadata": {},
   "source": [
    "## Within each sheet, iterate over used range & lock cells"
   ]
  },
  {
   "cell_type": "code",
   "execution_count": null,
   "id": "1ca6982c-948f-483d-8841-e24a84851a3a",
   "metadata": {},
   "outputs": [],
   "source": [
    "worksheet_password = \"pw\"\n",
    "for sh in wb.Sheets:\n",
    "    wb.Worksheets(sh.Name).Activate()\n",
    "    ws = xl.ActiveSheet\n",
    "\n",
    "    rowcount = ws.UsedRange.Rows.Count\n",
    "    colcount = ws.UsedRange.Columns.Count\n",
    "\n",
    "    ws.Unprotect(Password=worksheet_password)\n",
    "    for row in range(1, rowcount + 1):\n",
    "        for col in range(1, colcount + 1):\n",
    "            cell = ws.Cells(row, col)\n",
    "\n",
    "#             if cell.Font.FontStyle == \"Bold\":\n",
    "#                 cell.Locked = False\n",
    "\n",
    "#             if cell.Value == \"Input Fields\":\n",
    "#                 cell.Locked = False\n",
    "\n",
    "#             if not cell.HasFormula:\n",
    "#                 cell.Locked = False\n",
    "\n",
    "            if cell.Interior.color == lock_color:\n",
    "                cell.Locked = False\n",
    "\n",
    "            else:\n",
    "                cell.Locked = True\n",
    "    ws.Protect(Password=worksheet_password)"
   ]
  },
  {
   "cell_type": "code",
   "execution_count": null,
   "id": "b838284d-045a-43b4-a19c-e29550f27171",
   "metadata": {},
   "outputs": [],
   "source": [
    "# Save & close workbook\n",
    "wb.SaveAs(Filename=str(output_path))\n",
    "wb.Close(False)"
   ]
  },
  {
   "cell_type": "code",
   "execution_count": null,
   "id": "3686d22c-6966-4eaf-9471-17de2de42934",
   "metadata": {},
   "outputs": [],
   "source": [
    "# Quit Excel instance\n",
    "xl.Quit()\n",
    "xl = None"
   ]
  }
 ],
 "metadata": {
  "kernelspec": {
   "display_name": "Python 3",
   "language": "python",
   "name": "python3"
  },
  "language_info": {
   "codemirror_mode": {
    "name": "ipython",
    "version": 3
   },
   "file_extension": ".py",
   "mimetype": "text/x-python",
   "name": "python",
   "nbconvert_exporter": "python",
   "pygments_lexer": "ipython3",
   "version": "3.8.5"
  }
 },
 "nbformat": 4,
 "nbformat_minor": 5
}
